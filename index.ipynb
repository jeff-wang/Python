{
 "cells": [
  {
   "cell_type": "markdown",
   "metadata": {},
   "source": [
    "# GALAMOST tutorials and examples"
   ]
  },
  {
   "cell_type": "markdown",
   "metadata": {},
   "source": [
    "Welcome to use [GALAMOST](http://galamost.ciac.jl.cn/) for MD simulations. Here are some tutorials and examlples for doing exercises. Jupyter notebook files are available from [github](https://github.com/zhuyouliang/GALAMOST)."
   ]
  },
  {
   "cell_type": "markdown",
   "metadata": {},
   "source": [
    "## Installation\n",
    "Please see the [documentation](https://galamost.readthedocs.io/en/latest/) to know the features of GALAMOST. Following the [guide](https://galamost.readthedocs.io/en/latest/installation.html) for installation and usage. "
   ]
  },
  {
   "cell_type": "markdown",
   "metadata": {},
   "source": [
    "## Tutorials \n",
    "- **Dissipative Particle Dynamic Simulation (DPD)**\n",
    "    - [Diblock-polymer](dpd_diblock-polymer.ipynb)\n",
    "    - [Polymer-solution](dpd_polymer-solution.ipynb)\n",
    "- **Hybrid Molecular Dynamics-Self-consistent Field Theory (MD-SCF)**\n",
    "    - [Lipid-solution](mdscf_lipid-solution.ipynb)\n",
    "- **Polymerization/Reaction Model**\n",
    "    - [Grafting-from-sphere](reaction_grafting-from-sphere.ipynb)\n",
    "- **Coarse-grained Molecular Dynamics(CGMD)**\n",
    "    - [PEO](cgmd_peo.ipynb)"
   ]
  },
  {
   "cell_type": "markdown",
   "metadata": {},
   "source": [
    "## Examples\n",
    "The examples along with some description could be downloaded from [bitbucket](https://bitbucket.org/galamostdevelopergroup/source-code/src/master/examples/)"
   ]
  }
 ],
 "metadata": {
  "kernelspec": {
   "display_name": "Python 3",
   "language": "python",
   "name": "python3"
  },
  "language_info": {
   "codemirror_mode": {
    "name": "ipython",
    "version": 3
   },
   "file_extension": ".py",
   "mimetype": "text/x-python",
   "name": "python",
   "nbconvert_exporter": "python",
   "pygments_lexer": "ipython3",
   "version": "3.7.3"
  }
 },
 "nbformat": 4,
 "nbformat_minor": 2
}
