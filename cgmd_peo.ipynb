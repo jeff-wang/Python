{
 "cells": [
  {
   "cell_type": "markdown",
   "metadata": {},
   "source": [
    "# CGMD simulation of PEO"
   ]
  },
  {
   "cell_type": "markdown",
   "metadata": {},
   "source": [
    "**`By You-Liang Zhu`**"
   ]
  },
  {
   "cell_type": "markdown",
   "metadata": {},
   "source": [
    "## Introduction"
   ]
  },
  {
   "attachments": {
    "%E5%9B%BE%E7%89%871.png": {
     "image/png": "[encoded data removed]"
    }
   },
   "cell_type": "markdown",
   "metadata": {},
   "source": [
    "This tutorial provides an introduction of general coarse-grained molecular dynamics (CGMD) simulation using GALAMOST. It is designed for new users who want to learn about how to run CGMD simulations. It does however assume that you have a machine with [MagiC-3.0](http://www.fos.su.se/~sasha/mdynamix/) and [GALAMOST](http://galamost.ciac.jl.cn/) correctly installed.\n",
    "\n",
    "**Download [running files](https://bitbucket.org/galamostdevelopergroup/source-code/src/master/examples/Case12-CGMD-PEO/)**.\n",
    "\n",
    "In this tutorial, we would like to make a system consisting of polyethylene oxide (PEO) dissolved in water. The system consists of 10 PEO_10 chains. MagiC software is employed to compute effective potentials by iterative Boltzmann Inversion or Inverse Monte Carlo method for the coarse-grained model. Then, GALAMOST is employed to efficiently run CGMD simulations.![%E5%9B%BE%E7%89%871.png](attachment:%E5%9B%BE%E7%89%871.png)"
   ]
  },
  {
   "cell_type": "markdown",
   "metadata": {},
   "source": [
    "## Generating CG force field by MagiC "
   ]
  },
  {
   "cell_type": "markdown",
   "metadata": {},
   "source": [
    "Our goal here is to obtain a CG force field for PEO, treating the water implicitly by effective potentials. We will do this in a step-by-step way, showing how to use MagiC in easy and convenient way."
   ]
  },
  {
   "cell_type": "markdown",
   "metadata": {},
   "source": [
    "Requiring four files:\n",
    "1. md_nowater.xtc - all-atom simulation trajectory file\n",
    "2. md.tpr - the all-atom simulation running file of GROMACS\n",
    "3. cgtraj.inp - bead mapping scheme file\n",
    "4. rdf.inp - settings for the RDF-calculation\n",
    "5. magic.inp - settings for few consequent runs of the inverse solver "
   ]
  },
  {
   "cell_type": "markdown",
   "metadata": {},
   "source": [
    "File \"cgtraj.inp\":"
   ]
  },
  {
   "cell_type": "code",
   "execution_count": null,
   "metadata": {},
   "outputs": [],
   "source": [
    "&TRAJ\n",
    " NFORM='XTC',\n",
    " FNAME='md_nowater.xtc',\n",
    " NTYPES=1,\n",
    " NAMOL='Other_chain_A'\n",
    " NSPEC=10,\n",
    " NFBEG=1,\n",
    " NFEND=1,\n",
    " ISTEP=1,\n",
    " IPRINT=5,\n",
    "&END\n",
    "\n",
    "BeadMapping\n",
    "CGTrajectoryOutputFile:peo10-10.xtc\n",
    " CGMolecularType:peo10-10.CG\n",
    "  ParentType:peo\n",
    "  PEB:    8:1-8\n",
    "  PEO1:   7:9-15\n",
    "  PEO2:   7:16-22\n",
    "  PEO3:   7:23-29\n",
    "  PEO4:   7:30-36\n",
    "  PEO5:   7:37-43\n",
    "  PEO6:   7:44-50\n",
    "  PEO7:   7:51-57\n",
    "  PEO8:   7:58-64\n",
    "  PEC:    8:65-72\n",
    " EndCGMolecularType\n",
    "EndBeadMappingRINT=5,\n",
    "&END"
   ]
  },
  {
   "cell_type": "markdown",
   "metadata": {},
   "source": [
    "File \"rdf.inp\":"
   ]
  },
  {
   "cell_type": "code",
   "execution_count": null,
   "metadata": {},
   "outputs": [],
   "source": [
    "&Parameters\n",
    "  TrajFile=peo10-10.xtc\n",
    "  NMType=1\n",
    "  NameMType= peo10-10.CG\n",
    "  NMolMType= 10\n",
    "  NPairBondsExclude  = 1\n",
    "  NAngleBondsExclude = 1\n",
    "  Exclusions = exclusions_SR.dat\n",
    "  OutputFile= peo10-10.rdf\n",
    "  Step = 1\n",
    "  RMaxNB=20.\n",
    "  RMinB=0.0\n",
    "  RMaxB=20.\n",
    "  ResolNB=0.1,\n",
    "  ResolB=0.02,\n",
    "  ResolA=1.0\n",
    "&EndParameters\n",
    "\n",
    "&CGTypes\n",
    "PEB:PEB\n",
    "PEO:PEO1 PEO2 PEO3 PEO4 PEO5 PEO6 PEO7 PEO8\n",
    "PEC:PEC\n",
    "&EndCGTypes\n",
    "\n",
    "&RDFsNB\n",
    " add : all\n",
    "&EndRDFsNB\n",
    "\n",
    "&RDFsB\n",
    " add : peo10-10.CG : 1 : PEB  PEO1\n",
    " add : peo10-10.CG : 2 : PEO1 PEO2,PEO2 PEO3,PEO3 PEO4,PEO4 PEO5,PEO5 PEO6,PEO6 PEO7,PEO7 PEO8\n",
    " add : peo10-10.CG : 3 : PEO8 PEC\n",
    "&EndRDFsB\n",
    "\n",
    "&RDFsA\n",
    "add : peo10-10.CG : 4: PEB PEO1 PEO2\n",
    "add : peo10-10.CG : 5: PEO1 PEO2 PEO3,PEO2 PEO3 PEO4,PEO3 PEO4 PEO5,PEO4 PEO5 PEO6,PEO5 PEO6 PEO7,PEO6 PEO7 PEO8\n",
    "add : peo10-10.CG : 6: PEO7 PEO8 PEC\n",
    "&EndRDFsA"
   ]
  },
  {
   "cell_type": "markdown",
   "metadata": {},
   "source": [
    "File \"magic.inp\":"
   ]
  },
  {
   "cell_type": "code",
   "execution_count": null,
   "metadata": {},
   "outputs": [],
   "source": [
    "  NMType = 1\n",
    "  NameMType = peo10-10.CG\n",
    "  NMolMType = 10\n",
    "  LMoveMType = TRUE,\n",
    "  Box = 78.55459, 78.55459, 78.55459\n",
    "  Epsilon = 1.0\n",
    "  TEMP=300.\n",
    "  ExclusionSR = exclusions_SR.dat\n",
    "  ExclusionEL = exclusions_SR.dat\n",
    "  MCSteps = 50000000,\n",
    "  MCStepsEquil = 2500000,\n",
    "  MCStepAtom = 1.0\n",
    "  MCStepTransMol = 0.7\n",
    "  MCStepRotMol = 0.01\n",
    "  iMCStepTransMol = 500\n",
    "  iMCStepRotMol = 500\n",
    "  NMCAutoAdjust=10\n",
    "  iCalcEnergy = 100000\n",
    "  RCutEl=20.0\n",
    "  AF = 3.0\n",
    "  FQ = 9.0\n",
    "  ProhibPotLevel=1000.0\n",
    "  RandomSeed=51\n",
    "\n",
    "  InverseMode =NG \n",
    "  NIter=10\n",
    "  IAverage=500\n",
    "  REGP = 0.3,\n",
    "  MaxPotCor=2.0\n",
    "  KeepStructure=False\n",
    "  MaxRelDif=10.0\n",
    "  iPotCorCheck = 0\n",
    "\n",
    "  VerboseLevel=5\n",
    "  InputRDF= peo10-10.rdf\n",
    "! Input file with tabulated Potentials\n",
    "! InputPot=00.peo10-10.i000.pot\n",
    " \n",
    "  Output = 01.peo10-10\n",
    "  DumpLastConf = .false.\n",
    "  WriteTraj = 0"
   ]
  },
  {
   "cell_type": "markdown",
   "metadata": {},
   "source": [
    "### 1. Extraction of molecular topology mmol files out of the .tpr file:"
   ]
  },
  {
   "cell_type": "markdown",
   "metadata": {},
   "source": [
    "Required: md.tpr"
   ]
  },
  {
   "cell_type": "markdown",
   "metadata": {},
   "source": [
    "File \"mmol.py\":"
   ]
  },
  {
   "cell_type": "code",
   "execution_count": null,
   "metadata": {},
   "outputs": [],
   "source": [
    "#!/usr/bin/python \n",
    "import MagicTools as MT # Import MagicTools Library and set location for the tutorial root-folder\n",
    "MT.tpr2mmol('md.tpr')"
   ]
  },
  {
   "cell_type": "markdown",
   "metadata": {},
   "source": [
    "This will result in 2 new files: Other_chain_A.mmol, SOL.mmol"
   ]
  },
  {
   "cell_type": "markdown",
   "metadata": {},
   "source": [
    "### 2. Bead mapping:"
   ]
  },
  {
   "cell_type": "markdown",
   "metadata": {},
   "source": [
    "Required: cgtraj.inp, md_nowater.xtc"
   ]
  },
  {
   "cell_type": "code",
   "execution_count": null,
   "metadata": {},
   "outputs": [],
   "source": [
    "cgtraj cgtraj.inp"
   ]
  },
  {
   "cell_type": "markdown",
   "metadata": {},
   "source": [
    "This will generate a bunch of new files:\n",
    "1. peo10-10.xtc - BeadMapped trajectory\n",
    "2. last_frame.xmol - last frame of the BeadMapped trajectroy in a human-readable format XMOL. It has atom names and is useful when you open the XTC-trajecory by VMD\n",
    "3. peo10-10.CG.mmol - BeadMapped representation of the original molecules."
   ]
  },
  {
   "cell_type": "markdown",
   "metadata": {},
   "source": [
    "### 3. RDF calculation"
   ]
  },
  {
   "cell_type": "markdown",
   "metadata": {},
   "source": [
    "Required files: peo10-10.xtc, peo10-10.CG.mmol"
   ]
  },
  {
   "cell_type": "code",
   "execution_count": null,
   "metadata": {},
   "outputs": [],
   "source": [
    "rdf.py -i rdf.inp"
   ]
  },
  {
   "cell_type": "markdown",
   "metadata": {},
   "source": [
    "This will generate a bunch of new files:\n",
    "1. peo10-10.rdf - File with reference RDFs\n",
    "2. peo10-10.CG.mcm, - Molecular Topology files, storing information about atoms of the molecule, atom-types and bond (pairwise and angle-bending)\n",
    "3. exclusions_SR.dat - file listing atoms excluded from non-bonded interctions (RDFs)"
   ]
  },
  {
   "cell_type": "markdown",
   "metadata": {},
   "source": [
    "### 3. Inverse Monte Carlo"
   ]
  },
  {
   "cell_type": "markdown",
   "metadata": {},
   "source": [
    "Required files:\n",
    "1. peo10-10.CG.mcm\n",
    "2. peo10-10.rdf - This is similar set of reference RDFs but calculated over longer trajectory.\n",
    "3. exclusions_SR.dat - Exclusions specifications. Note that for Cholecterol we suppressed all intramolecular short-range interactions.\n",
    "4. magic.inp - settings for few consequent runs of the inverse solver (Magic Core)"
   ]
  },
  {
   "cell_type": "code",
   "execution_count": null,
   "metadata": {},
   "outputs": [],
   "source": [
    "magic-gfortran magic.inp > magic.out"
   ]
  },
  {
   "cell_type": "markdown",
   "metadata": {},
   "source": [
    "This will generate a bunch of new files: magic.out, and \\*.pot  "
   ]
  },
  {
   "cell_type": "markdown",
   "metadata": {},
   "source": [
    "### 4. Extraction of GALAMOST files"
   ]
  },
  {
   "cell_type": "markdown",
   "metadata": {},
   "source": [
    "Required：\n",
    "1. magic.inp, start.xmol\n",
    "2. 03.peo10-10.i010.pot - Resulting effective potentials from the IMC\n",
    "3. peo10-10.CG.mcm,  - molecular topology"
   ]
  },
  {
   "cell_type": "code",
   "execution_count": null,
   "metadata": {},
   "outputs": [],
   "source": [
    "system = MT.GALAMOSTTopology(inpMagiC='magic.inp', xmol='start.xmol',eps=78.0)"
   ]
  },
  {
   "cell_type": "markdown",
   "metadata": {},
   "source": [
    "This will generate a bunch of new files:\n",
    "1. topology.xml - topology in XML format (can be viewed by vmd: vmd -hoomd topology.xml)\n",
    "2. tables.inc.py - python script defining where the tabulated potentials are stored\n",
    "3. exclusionsSL.inc.py and exclusionsEL.inc.py - python script describing short-range and electrostatic exclusions in the system"
   ]
  },
  {
   "cell_type": "markdown",
   "metadata": {},
   "source": [
    "## Prepare GALA file"
   ]
  },
  {
   "cell_type": "markdown",
   "metadata": {},
   "source": [
    "GALA script \"galajob.gala\" that defines the program settings is given as following for CGMD run."
   ]
  },
  {
   "cell_type": "code",
   "execution_count": null,
   "metadata": {},
   "outputs": [],
   "source": [
    "#!/usr/bin/python\n",
    "import sys\n",
    "import os\n",
    "sys.path.append('/home/msm/soft/galamost3/lib') # the path where the GALAMOST program is installed\n",
    "import galamost\n",
    "from optparse import OptionParser\n",
    "\n",
    "global _options\n",
    "parser = OptionParser()\n",
    "parser.add_option('--gpu', dest='gpu', help='GPU on which to execute')\n",
    "(_options, args) = parser.parse_args()\n",
    "\n",
    "\n",
    "filename = 'topology.xml'# initial configuration file\n",
    "build_method = galamost.XmlReader(filename) #\n",
    "perform_config = galamost.PerformConfig(0)# assign GPU by index\n",
    "all_info = galamost.AllInfo(build_method, perform_config)# build system information\n",
    "\n",
    "dt = 0.002  # timestep in ps\n",
    "rcut = 1.5  # real-space cutoff in nm\n",
    "rbuffer =0.1 # buffer-size (nm) for neighbour list\n",
    "k_pme_mesh = 48\n",
    "exclusionsSR='exclusionsSR.inc.py' # python script defining short-range exclusions\n",
    "exclusionsEL='exclusionsEL.inc.py' # python script defining electrostatic exclusions\n",
    "app = galamost.Application(all_info, dt)# build up an application with system information and integration time-step\n",
    "npoints_in_table = 1501 # Number of points in potential table\n",
    "\n",
    "if npoints_in_table is None:\n",
    "    raise ValueError('Value for number of points in the tabulated potential is not stated!!!')\n",
    "# execute python scripts with exclusion definitions\n",
    "exec(compile(source=open(exclusionsSR).read(), filename=exclusionsSR, mode='exec'))\n",
    "exec(compile(source=open(exclusionsEL).read(), filename=exclusionsEL, mode='exec'))\n",
    "# execute python script with tablulated potentials settings\n",
    "exec(compile(source=open('tables.inc.py').read(), filename='tables.inc.py', mode='exec'))\n",
    "\n",
    "group = galamost.ParticleSet(all_info, \"all\")# Collection of all atoms in the system\n",
    "\n",
    "comp_info = galamost.ComputeInfo(all_info, group)  # calculating system informations, such as temperature, pressure, and momentum\n",
    "Temperature = 303.0*0.00831  #kT  k=0.00831 kJ/mol\n",
    "\n",
    "Bd = galamost.BdNvt(all_info, group, Temperature, 123)# Set Langevin dynamics\n",
    "Bd.setGamma(5.0)#(,gamma)\n",
    "app.add(Bd)\n",
    "\n",
    "ZeroMomentum = galamost.ZeroMomentum(all_info) # removing the momentum of the center of mass\n",
    "ZeroMomentum.setPeriod(10000)# (period)\n",
    "app.add(ZeroMomentum)\n",
    "\n",
    "DInfo = galamost.DumpInfo(all_info, comp_info, 'data.log')# output system informations, such as temperature, pressure, and momentum\n",
    "DInfo.setPeriod(1000)# (period)\n",
    "app.add(DInfo)\n",
    "\n",
    "dcd = galamost.DcdDump(all_info, 'trj',True) # write trajectory in dcd format\n",
    "dcd.setPeriod(500)# (how often to write frames) 1ps\n",
    "dcd.unwrap(True)\n",
    "app.add(dcd)\n",
    "\n",
    "#ready ro run \n",
    "app.run (5000000)#(the number of steps to run)\n",
    "neighbor_listSR.printStats()# output the information about neighbor_list "
   ]
  },
  {
   "cell_type": "markdown",
   "metadata": {},
   "source": [
    "### Run simulaiton"
   ]
  },
  {
   "cell_type": "markdown",
   "metadata": {},
   "source": [
    "Required: galajob.gala, topology.xml, exclusionsSR.inc.py, exclusionsEL.inc.py, tables.inc.py"
   ]
  },
  {
   "cell_type": "code",
   "execution_count": null,
   "metadata": {},
   "outputs": [],
   "source": [
    "python galajob.gala --gpu=0 >a.log&"
   ]
  },
  {
   "cell_type": "markdown",
   "metadata": {},
   "source": [
    "[OVITO](http://www.ovito.org/) is suggested to render the pictures of system snapshots with the output XML files"
   ]
  },
  {
   "cell_type": "markdown",
   "metadata": {},
   "source": [
    "For further calculation of properties, GALAMOST plugin [`galaTackle`](https://galamost.readthedocs.io/en/latest/galatackle.html) can be used, which can be find in `galamost installed path\\bin`."
   ]
  },
  {
   "cell_type": "code",
   "execution_count": null,
   "metadata": {},
   "outputs": [],
   "source": [
    "galaTackle *.xml\n",
    "1\n",
    "enter"
   ]
  }
 ],
 "metadata": {
  "kernelspec": {
   "display_name": "Python 3",
   "language": "python",
   "name": "python3"
  },
  "language_info": {
   "codemirror_mode": {
    "name": "ipython",
    "version": 3
   },
   "file_extension": ".py",
   "mimetype": "text/x-python",
   "name": "python",
   "nbconvert_exporter": "python",
   "pygments_lexer": "ipython3",
   "version": "3.7.3"
  }
 },
 "nbformat": 4,
 "nbformat_minor": 2
}
